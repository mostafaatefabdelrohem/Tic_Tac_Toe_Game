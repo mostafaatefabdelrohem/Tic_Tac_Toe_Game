{
  "cells": [
    {
      "cell_type": "code",
      "source": [
        "# Tic Tac Toe\n",
        "\n",
        "# Function to print the game board\n",
        "def print_board(board):\n",
        "    for row in board:\n",
        "        print(row)\n",
        "\n",
        "# Function to handle player moves\n",
        "def player_move(board, player):\n",
        "    while True:\n",
        "        row = int(input(\"Enter the row (0-2): \"))\n",
        "        col = int(input(\"Enter the column (0-2): \"))\n",
        "        if board[row][col] == \"\":\n",
        "            board[row][col] = player\n",
        "            break\n",
        "        else:\n",
        "            print(\"Invalid move. Try again.\")\n",
        "\n",
        "# Function to check for a win\n",
        "def check_win(board, player):\n",
        "    # Check rows\n",
        "    for row in board:\n",
        "        if row.count(player) == 3:\n",
        "            return True\n",
        "\n",
        "    # Check columns\n",
        "    for col in range(3):\n",
        "        if [board[row][col] for row in range(3)].count(player) == 3:\n",
        "            return True\n",
        "\n",
        "    # Check diagonals\n",
        "    if board[0][0] == board[1][1] == board[2][2] == player:\n",
        "        return True\n",
        "    if board[0][2] == board[1][1] == board[2][0] == player:\n",
        "        return True\n",
        "\n",
        "    return False\n",
        "\n",
        "# Function to check for a tie\n",
        "def check_tie(board):\n",
        "    for row in board:\n",
        "        if \"\" in row:\n",
        "            return False\n",
        "    return True\n",
        "\n",
        "# Create the game board\n",
        "board = [[\"\", \"\", \"\"], [\"\", \"\", \"\"], [\"\", \"\", \"\"]]\n",
        "\n",
        "# Main game loop\n",
        "current_player = \"X\"\n",
        "while True:\n",
        "    print_board(board)\n",
        "    print(\"Player\", current_player, \"turn:\")\n",
        "    player_move(board, current_player)\n",
        "\n",
        "    if check_win(board, current_player):\n",
        "        print_board(board)\n",
        "        print(\"Player\", current_player, \"wins!\")\n",
        "        break\n",
        "    elif check_tie(board):\n",
        "        print_board(board)\n",
        "        print(\"It's a tie!\")\n",
        "        break\n",
        "\n",
        "    # Switch players\n",
        "    current_player = \"O\" if current_player == \"X\" else \"X\""
      ],
      "metadata": {
        "colab": {
          "base_uri": "https://localhost:8080/"
        },
        "id": "0iPZC3Q0Z4rT",
        "outputId": "00dd8c07-6d99-4c22-a38a-8b6f24d4e5f9"
      },
      "execution_count": 75,
      "outputs": [
        {
          "output_type": "stream",
          "name": "stdout",
          "text": [
            "['', '', '']\n",
            "['', '', '']\n",
            "['', '', '']\n",
            "Player X turn:\n",
            "Enter the row (0-2): 0\n",
            "Enter the column (0-2): 0\n",
            "['X', '', '']\n",
            "['', '', '']\n",
            "['', '', '']\n",
            "Player O turn:\n",
            "Enter the row (0-2): 1\n",
            "Enter the column (0-2): 0\n",
            "['X', '', '']\n",
            "['O', '', '']\n",
            "['', '', '']\n",
            "Player X turn:\n",
            "Enter the row (0-2): 0\n",
            "Enter the column (0-2): 1\n",
            "['X', 'X', '']\n",
            "['O', '', '']\n",
            "['', '', '']\n",
            "Player O turn:\n",
            "Enter the row (0-2): 2\n",
            "Enter the column (0-2): 0\n",
            "['X', 'X', '']\n",
            "['O', '', '']\n",
            "['O', '', '']\n",
            "Player X turn:\n",
            "Enter the row (0-2): 0\n",
            "Enter the column (0-2): 2\n",
            "['X', 'X', 'X']\n",
            "['O', '', '']\n",
            "['O', '', '']\n",
            "Player X wins!\n"
          ]
        }
      ]
    }
  ],
  "metadata": {
    "colab": {
      "provenance": []
    },
    "kernelspec": {
      "display_name": "Python 3",
      "name": "python3"
    },
    "language_info": {
      "name": "python"
    }
  },
  "nbformat": 4,
  "nbformat_minor": 0
}